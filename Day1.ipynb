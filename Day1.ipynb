{
  "cells": [
    {
      "attachments": {},
      "cell_type": "markdown",
      "metadata": {
        "id": "ori0Ylr3kAxt"
      },
      "source": [
        "# Web Information Retrieval\n",
        "## Introduction to search engines\n",
        "\n",
        "### DAY 1: Student version\n",
        "### Introduction & First Steps\n",
        "\n",
        "The goal of this first day is to go through the data and propose some ideas for the creation of your first search engine.\n",
        "\n",
        "The notebook is divided into several steps:\n",
        "- Query on the data\n",
        "- Data extraction\n",
        "- Data exploration\n",
        "- Data Visualization\n",
        "- Ideas suggestion for the search engine\n",
        "\n",
        "The data are from the stack exchange forum. They are available here : https://archive.org/details/stackexchange\n",
        "\n",
        "\n",
        "In order to gain time, you can already download 7 zip file of datascience forum (datascience.stackexchange.com.7z). If you work on Colab, we suggest you to push it on a specific directory (it may take few minutes to load).\n",
        "\n",
        "\n",
        "\n"
      ]
    },
    {
      "attachments": {},
      "cell_type": "markdown",
      "metadata": {
        "id": "Wb6hQEdZJaBT"
      },
      "source": [
        "# Query on the data\n",
        "\n",
        "Perform SQL queries to explore the data on the surface.\n",
        "\n",
        "The queries are to be done directly from this link: https://data.stackexchange.com/datascience/query/new\n",
        "\n",
        "For each query, you must test it on the site and then rewrite it in the associated cell. A capture of the results and a comment is requested in the report.\n",
        "\n",
        "You can find a cheat sheet on SQL basic syntax at: https://res.cloudinary.com/dyd911kmh/image/upload/v1675360372/Marketing/Blog/SQL_Basics_For_Data_Science.pdf\n"
      ]
    },
    {
      "cell_type": "code",
      "execution_count": 4,
      "metadata": {
        "id": "GPF6rwhUqORi"
      },
      "outputs": [
        {
          "name": "stdout",
          "output_type": "stream",
          "text": [
            "{'Posts.xml': 75730, 'Tags.xml': 682, 'Comments.xml': 78176}\n"
          ]
        }
      ],
      "source": [
        "# How many lines are in the Posts, Tags, Comments tables ?\n",
        "\n",
        "import os\n",
        "\n",
        "path_to_folder = \"/home/lucien/datascience.stackexchange.com\"\n",
        "\n",
        "L = ['Posts.xml', 'Tags.xml', 'Comments.xml']\n",
        "count_lines = {}\n",
        "\n",
        "for filename in os.listdir(path_to_folder):\n",
        "    if filename in L:\n",
        "        with open(os.path.join(path_to_folder, filename)) as f:\n",
        "            count_lines[filename] = len(f.readlines())\n",
        "print(count_lines)"
      ]
    },
    {
      "cell_type": "code",
      "execution_count": 5,
      "metadata": {
        "id": "epn2j17pqPIC"
      },
      "outputs": [
        {
          "name": "stdout",
          "output_type": "stream",
          "text": [
            "Le nombre de commentaires est de : 1082\n"
          ]
        }
      ],
      "source": [
        "# How many comments have there been since the beginning of the year 2023? \n",
        "#on veit compter le nombre de balises row à l'interieur des balises comments de Comments.xml\n",
        "\n",
        "import xml.etree.ElementTree as ET\n",
        "\n",
        "path_to_comments = \"/home/lucien/datascience.stackexchange.com/Comments.xml\"\n",
        "\n",
        "count_comments = 0\n",
        "\n",
        "for event, elem in ET.iterparse(path_to_comments):\n",
        "    if elem.tag == \"row\":\n",
        "        if int(elem.attrib[\"CreationDate\"][0:4]) >= 2023:\n",
        "            count_comments += 1\n",
        "\n",
        "print('Le nombre de commentaires est de :', count_comments)"
      ]
    },
    {
      "cell_type": "code",
      "execution_count": 6,
      "metadata": {
        "id": "SkOl7AHlqT1H"
      },
      "outputs": [
        {
          "name": "stdout",
          "output_type": "stream",
          "text": [
            "Le nombre d'utilisateurs est de : 125306\n"
          ]
        }
      ],
      "source": [
        "# How many users are there ?\n",
        "\n",
        "path_to_users = \"/home/lucien/datascience.stackexchange.com/Users.xml\"\n",
        "\n",
        "count_users = 0\n",
        "\n",
        "for event, elem in ET.iterparse(path_to_users):\n",
        "    if elem.tag == \"row\":\n",
        "        count_users += 1\n",
        "\n",
        "print('Le nombre d\\'utilisateurs est de :', count_users)"
      ]
    },
    {
      "cell_type": "code",
      "execution_count": 7,
      "metadata": {
        "id": "JTiguRqKqV5c"
      },
      "outputs": [
        {
          "name": "stdout",
          "output_type": "stream",
          "text": [
            "Le nombre de nouveaux utilisateurs est de : 52539\n"
          ]
        }
      ],
      "source": [
        "# How many new users are there each year since 2020 ?\n",
        "\n",
        "path_to_users = \"/home/lucien/datascience.stackexchange.com/Users.xml\"\n",
        "\n",
        "count_users = 0\n",
        "\n",
        "for event, elem in ET.iterparse(path_to_users):\n",
        "    if elem.tag == \"row\":\n",
        "        if int(elem.attrib[\"CreationDate\"][0:4]) >= 2020:\n",
        "            count_users += 1\n",
        "print('Le nombre de nouveaux utilisateurs est de :', count_users)"
      ]
    },
    {
      "cell_type": "code",
      "execution_count": 8,
      "metadata": {
        "id": "kltcQv74qYBw"
      },
      "outputs": [
        {
          "name": "stdout",
          "output_type": "stream",
          "text": [
            "0\n",
            "\n"
          ]
        }
      ],
      "source": [
        "# What is the Content of the smallest Post ?\n",
        "\n",
        "path_to_posts = \"/home/lucien/datascience.stackexchange.com/Posts.xml\"\n",
        "\n",
        "min_size = 1000000\n",
        "\n",
        "for event, elem in ET.iterparse(path_to_posts):\n",
        "    if elem.tag == \"row\":\n",
        "        if len(elem.attrib[\"Body\"]) < min_size:\n",
        "            min_size = len(elem.attrib[\"Body\"])\n",
        "            content = elem.attrib[\"Body\"]\n",
        "\n",
        "print(min_size)\n",
        "print(content)"
      ]
    },
    {
      "cell_type": "code",
      "execution_count": 9,
      "metadata": {
        "id": "4mJQ9f2-qbMA"
      },
      "outputs": [
        {
          "name": "stdout",
          "output_type": "stream",
          "text": [
            "('24051', 456)\n"
          ]
        }
      ],
      "source": [
        "# What is the most voted post ?\n",
        "\n",
        "path_to_votes = \"/home/lucien/datascience.stackexchange.com/Votes.xml\"\n",
        "\n",
        "count = {}\n",
        "\n",
        "\n",
        "for event, elem in ET.iterparse(path_to_votes):\n",
        "    if elem.tag == \"row\":\n",
        "        if elem.attrib[\"PostId\"] in count:\n",
        "            count[elem.attrib[\"PostId\"]] += 1\n",
        "        else:\n",
        "            count[elem.attrib[\"PostId\"]] = 1\n",
        "\n",
        "#on veut trier le dictionnaire count par valeur décroissante\n",
        "\n",
        "sorted_count = sorted(count.items(), key=lambda x: x[1], reverse=True)\n",
        "print(sorted_count[0])\n"
      ]
    },
    {
      "cell_type": "code",
      "execution_count": 10,
      "metadata": {
        "id": "-FzkIPeAqeVB"
      },
      "outputs": [
        {
          "name": "stdout",
          "output_type": "stream",
          "text": [
            "[('<machine-learning>', 48), ('<python>', 27), ('<nlp>', 20), ('<deep-learning>', 19), ('<python><pandas>', 18), ('<time-series>', 16), ('<logistic-regression>', 15), ('<dataset>', 13), ('<neural-network>', 13)]\n"
          ]
        }
      ],
      "source": [
        "# What are the 10 most frequent tags in 2022? (ordered from most to least frequent)\n",
        "\n",
        "path_to_post = \"/home/lucien/datascience.stackexchange.com/Posts.xml\"\n",
        "\n",
        "count = {}\n",
        "\n",
        "for event, elem in ET.iterparse(path_to_post):\n",
        "    if elem.tag == \"row\":\n",
        "        if int(elem.attrib[\"CreationDate\"][0:4]) == 2022:\n",
        "            try:\n",
        "                if elem.attrib[\"Tags\"] in count:\n",
        "                    count[elem.attrib[\"Tags\"]] += 1\n",
        "                else:\n",
        "                    count[elem.attrib[\"Tags\"]] = 1\n",
        "            except:\n",
        "                pass\n",
        "\n",
        "#on veut trier le dictionnaire count par valeur décroissante\n",
        "\n",
        "sorted_count = sorted(count.items(), key=lambda x: x[1], reverse=True)\n",
        "\n",
        "print(sorted_count[0:9])"
      ]
    },
    {
      "attachments": {},
      "cell_type": "markdown",
      "metadata": {
        "id": "eePn_HW4qlUm"
      },
      "source": [
        "## Initialize the environnement"
      ]
    },
    {
      "cell_type": "code",
      "execution_count": 11,
      "metadata": {
        "id": "CqwXLcP_qmrz"
      },
      "outputs": [
        {
          "name": "stdout",
          "output_type": "stream",
          "text": [
            "/bin/bash: /home/lucien/anaconda3/envs/tf/lib/libtinfo.so.6: no version information available (required by /bin/bash)\n"
          ]
        }
      ],
      "source": [
        "## Install the library for extracting 7 zip file\n",
        "!pip install py7zr --quiet"
      ]
    },
    {
      "cell_type": "code",
      "execution_count": 12,
      "metadata": {
        "id": "yacdJePmqo8g"
      },
      "outputs": [
        {
          "ename": "ModuleNotFoundError",
          "evalue": "No module named 'matplotlib'",
          "output_type": "error",
          "traceback": [
            "\u001b[0;31m---------------------------------------------------------------------------\u001b[0m",
            "\u001b[0;31mModuleNotFoundError\u001b[0m                       Traceback (most recent call last)",
            "Cell \u001b[0;32mIn[12], line 4\u001b[0m\n\u001b[1;32m      1\u001b[0m \u001b[39m## Import the libraries\u001b[39;00m\n\u001b[1;32m      3\u001b[0m \u001b[39mimport\u001b[39;00m \u001b[39mpandas\u001b[39;00m \u001b[39mas\u001b[39;00m \u001b[39mpd\u001b[39;00m\n\u001b[0;32m----> 4\u001b[0m \u001b[39mimport\u001b[39;00m \u001b[39mmatplotlib\u001b[39;00m\u001b[39m.\u001b[39;00m\u001b[39mpyplot\u001b[39;00m \u001b[39mas\u001b[39;00m \u001b[39mplt\u001b[39;00m\n\u001b[1;32m      5\u001b[0m \u001b[39mimport\u001b[39;00m \u001b[39mseaborn\u001b[39;00m \u001b[39mas\u001b[39;00m \u001b[39msns\u001b[39;00m\n\u001b[1;32m      6\u001b[0m \u001b[39mfrom\u001b[39;00m \u001b[39mgoogle\u001b[39;00m\u001b[39m.\u001b[39;00m\u001b[39mcolab\u001b[39;00m \u001b[39mimport\u001b[39;00m drive\n",
            "\u001b[0;31mModuleNotFoundError\u001b[0m: No module named 'matplotlib'"
          ]
        }
      ],
      "source": [
        "## Import the libraries\n",
        "\n",
        "import pandas as pd\n",
        "import matplotlib.pyplot as plt\n",
        "import seaborn as sns\n",
        "from google.colab import drive\n",
        "import py7zr\n",
        "import os"
      ]
    },
    {
      "attachments": {},
      "cell_type": "markdown",
      "metadata": {
        "id": "8FmfwnjOqv3G"
      },
      "source": [
        "There is a simple method for extracting the data directly from the website zip repo. It writes the different files directly in your google drive."
      ]
    },
    {
      "cell_type": "code",
      "execution_count": null,
      "metadata": {
        "id": "Laiz3w_YqrNu"
      },
      "outputs": [],
      "source": [
        "# Only if you use Colab\n",
        "\n",
        "drive.mount('/content/drive')"
      ]
    },
    {
      "cell_type": "code",
      "execution_count": null,
      "metadata": {
        "id": "AM12A6cYqy3-"
      },
      "outputs": [],
      "source": [
        "# To adapt to your Drive/local directory\n",
        "\n",
        "MAIN_PATH = '/content/drive/MyDrive/TP Centrale'\n",
        "DATA_PATH = '/content/drive/MyDrive/TP Centrale/data'"
      ]
    },
    {
      "cell_type": "code",
      "execution_count": null,
      "metadata": {
        "id": "nq-JymDaq1O6"
      },
      "outputs": [],
      "source": [
        "if not os.path.isdir(MAIN_PATH):\n",
        "  os.mkdir(MAIN_PATH)\n",
        "if not os.path.isdir(MAIN_PATH):\n",
        "  os.mkdir(DATA_PATH)"
      ]
    },
    {
      "cell_type": "code",
      "execution_count": null,
      "metadata": {
        "id": "5OIJnSUPq6Wo"
      },
      "outputs": [],
      "source": [
        "archive = py7zr.SevenZipFile(os.path.join(MAIN_PATH, 'datascience.stackexchange.com.7z'), mode='r')\n",
        "archive.extractall(path=os.path.join(MAIN_PATH, 'data'))\n",
        "archive.close()"
      ]
    },
    {
      "attachments": {},
      "cell_type": "markdown",
      "metadata": {
        "id": "7wnLEyhJrC1o"
      },
      "source": [
        "## Data Extraction\n",
        "\n",
        "The data is in XML format. Why do you think the developers preferred this format? What could have been other possible formats? (**answer expected in the report**)\n",
        "\n",
        "Here is what a raw file looks like:\n"
      ]
    },
    {
      "cell_type": "code",
      "execution_count": null,
      "metadata": {
        "id": "zf-Y3oQXxYxq"
      },
      "outputs": [
        {
          "ename": "NameError",
          "evalue": "name 'DATA_PATH' is not defined",
          "output_type": "error",
          "traceback": [
            "\u001b[0;31m---------------------------------------------------------------------------\u001b[0m",
            "\u001b[0;31mNameError\u001b[0m                                 Traceback (most recent call last)",
            "Cell \u001b[0;32mIn[31], line 1\u001b[0m\n\u001b[0;32m----> 1\u001b[0m \u001b[39mwith\u001b[39;00m \u001b[39mopen\u001b[39m(os\u001b[39m.\u001b[39mpath\u001b[39m.\u001b[39mjoin(DATA_PATH, \u001b[39m'\u001b[39m\u001b[39mTags.xml\u001b[39m\u001b[39m'\u001b[39m), \u001b[39m'\u001b[39m\u001b[39mr\u001b[39m\u001b[39m'\u001b[39m) \u001b[39mas\u001b[39;00m f:\n\u001b[1;32m      2\u001b[0m   raw_xml \u001b[39m=\u001b[39m f\u001b[39m.\u001b[39mread()\n\u001b[1;32m      3\u001b[0m \u001b[39mprint\u001b[39m(raw_xml)\n",
            "\u001b[0;31mNameError\u001b[0m: name 'DATA_PATH' is not defined"
          ]
        }
      ],
      "source": [
        "with open(os.path.join(DATA_PATH, 'Tags.xml'), 'r') as f:\n",
        "  raw_xml = f.read()\n",
        "print(raw_xml)"
      ]
    },
    {
      "attachments": {},
      "cell_type": "markdown",
      "metadata": {
        "id": "oZJBY1b8xUPI"
      },
      "source": [
        "### XML Extraction example for Tags file\n",
        "Here is a method to read these XML files easily as a pandas DataFrame."
      ]
    },
    {
      "cell_type": "code",
      "execution_count": null,
      "metadata": {
        "id": "nhGdQYNqrD7G"
      },
      "outputs": [],
      "source": [
        "tags = pd.read_xml(os.path.join(DATA_PATH, 'Tags.xml'), parser=\"etree\", encoding=\"utf8\")"
      ]
    },
    {
      "cell_type": "code",
      "execution_count": null,
      "metadata": {
        "id": "I67TIuTirGL5"
      },
      "outputs": [],
      "source": [
        "tags"
      ]
    },
    {
      "attachments": {},
      "cell_type": "markdown",
      "metadata": {
        "id": "LwP3rCDsyCHp"
      },
      "source": [
        "There are several other files in the extracted folder:"
      ]
    },
    {
      "cell_type": "code",
      "execution_count": null,
      "metadata": {
        "id": "w2o52jt7yJ51"
      },
      "outputs": [],
      "source": [
        "os.listdir(DATA_PATH)"
      ]
    },
    {
      "attachments": {},
      "cell_type": "markdown",
      "metadata": {
        "id": "C1wORbZGyMMo"
      },
      "source": [
        "In the next part you will do some exploration on them, starting with the more important one: Posts.xml. It contains the many posts of the selected topic: \"data science\"."
      ]
    },
    {
      "attachments": {},
      "cell_type": "markdown",
      "metadata": {
        "id": "TrRSDOzPrLet"
      },
      "source": [
        "## Data Exploration\n",
        "\n",
        "In this part, you have to work on Posts.xml file.\n",
        "\n",
        "\n",
        "You can find a cheat sheet of pandas basic syntax at: https://pandas.pydata.org/Pandas_Cheat_Sheet.pdf"
      ]
    },
    {
      "cell_type": "code",
      "execution_count": null,
      "metadata": {
        "id": "TpZTYciRrIIs"
      },
      "outputs": [
        {
          "data": {
            "text/html": [
              "<div>\n",
              "<style scoped>\n",
              "    .dataframe tbody tr th:only-of-type {\n",
              "        vertical-align: middle;\n",
              "    }\n",
              "\n",
              "    .dataframe tbody tr th {\n",
              "        vertical-align: top;\n",
              "    }\n",
              "\n",
              "    .dataframe thead th {\n",
              "        text-align: right;\n",
              "    }\n",
              "</style>\n",
              "<table border=\"1\" class=\"dataframe\">\n",
              "  <thead>\n",
              "    <tr style=\"text-align: right;\">\n",
              "      <th></th>\n",
              "      <th>Id</th>\n",
              "      <th>PostTypeId</th>\n",
              "      <th>CreationDate</th>\n",
              "      <th>Score</th>\n",
              "      <th>ViewCount</th>\n",
              "      <th>Body</th>\n",
              "      <th>OwnerUserId</th>\n",
              "      <th>LastActivityDate</th>\n",
              "      <th>Title</th>\n",
              "      <th>Tags</th>\n",
              "      <th>...</th>\n",
              "      <th>ClosedDate</th>\n",
              "      <th>ContentLicense</th>\n",
              "      <th>AcceptedAnswerId</th>\n",
              "      <th>LastEditorUserId</th>\n",
              "      <th>LastEditDate</th>\n",
              "      <th>ParentId</th>\n",
              "      <th>OwnerDisplayName</th>\n",
              "      <th>CommunityOwnedDate</th>\n",
              "      <th>LastEditorDisplayName</th>\n",
              "      <th>FavoriteCount</th>\n",
              "    </tr>\n",
              "  </thead>\n",
              "  <tbody>\n",
              "    <tr>\n",
              "      <th>0</th>\n",
              "      <td>5</td>\n",
              "      <td>1</td>\n",
              "      <td>2014-05-13T23:58:30.457</td>\n",
              "      <td>9</td>\n",
              "      <td>898.0</td>\n",
              "      <td>&lt;p&gt;I've always been interested in machine lear...</td>\n",
              "      <td>5.0</td>\n",
              "      <td>2014-05-14T00:36:31.077</td>\n",
              "      <td>How can I do simple machine learning without h...</td>\n",
              "      <td>&lt;machine-learning&gt;</td>\n",
              "      <td>...</td>\n",
              "      <td>2014-05-14T14:40:25.950</td>\n",
              "      <td>CC BY-SA 3.0</td>\n",
              "      <td>NaN</td>\n",
              "      <td>NaN</td>\n",
              "      <td>None</td>\n",
              "      <td>NaN</td>\n",
              "      <td>None</td>\n",
              "      <td>None</td>\n",
              "      <td>None</td>\n",
              "      <td>NaN</td>\n",
              "    </tr>\n",
              "    <tr>\n",
              "      <th>1</th>\n",
              "      <td>7</td>\n",
              "      <td>1</td>\n",
              "      <td>2014-05-14T00:11:06.457</td>\n",
              "      <td>4</td>\n",
              "      <td>478.0</td>\n",
              "      <td>&lt;p&gt;As a researcher and instructor, I'm looking...</td>\n",
              "      <td>36.0</td>\n",
              "      <td>2014-05-16T13:45:00.237</td>\n",
              "      <td>What open-source books (or other materials) pr...</td>\n",
              "      <td>&lt;education&gt;&lt;open-source&gt;</td>\n",
              "      <td>...</td>\n",
              "      <td>2014-05-14T08:40:54.950</td>\n",
              "      <td>CC BY-SA 3.0</td>\n",
              "      <td>10.0</td>\n",
              "      <td>97.0</td>\n",
              "      <td>2014-05-16T13:45:00.237</td>\n",
              "      <td>NaN</td>\n",
              "      <td>None</td>\n",
              "      <td>None</td>\n",
              "      <td>None</td>\n",
              "      <td>NaN</td>\n",
              "    </tr>\n",
              "    <tr>\n",
              "      <th>2</th>\n",
              "      <td>9</td>\n",
              "      <td>2</td>\n",
              "      <td>2014-05-14T00:36:31.077</td>\n",
              "      <td>5</td>\n",
              "      <td>NaN</td>\n",
              "      <td>&lt;p&gt;Not sure if this fits the scope of this SE,...</td>\n",
              "      <td>51.0</td>\n",
              "      <td>2014-05-14T00:36:31.077</td>\n",
              "      <td>None</td>\n",
              "      <td>None</td>\n",
              "      <td>...</td>\n",
              "      <td>None</td>\n",
              "      <td>CC BY-SA 3.0</td>\n",
              "      <td>NaN</td>\n",
              "      <td>NaN</td>\n",
              "      <td>None</td>\n",
              "      <td>5.0</td>\n",
              "      <td>None</td>\n",
              "      <td>None</td>\n",
              "      <td>None</td>\n",
              "      <td>NaN</td>\n",
              "    </tr>\n",
              "    <tr>\n",
              "      <th>3</th>\n",
              "      <td>10</td>\n",
              "      <td>2</td>\n",
              "      <td>2014-05-14T00:53:43.273</td>\n",
              "      <td>13</td>\n",
              "      <td>NaN</td>\n",
              "      <td>&lt;p&gt;One book that's freely available is \"The El...</td>\n",
              "      <td>22.0</td>\n",
              "      <td>2014-05-14T00:53:43.273</td>\n",
              "      <td>None</td>\n",
              "      <td>None</td>\n",
              "      <td>...</td>\n",
              "      <td>None</td>\n",
              "      <td>CC BY-SA 3.0</td>\n",
              "      <td>NaN</td>\n",
              "      <td>NaN</td>\n",
              "      <td>None</td>\n",
              "      <td>7.0</td>\n",
              "      <td>None</td>\n",
              "      <td>None</td>\n",
              "      <td>None</td>\n",
              "      <td>NaN</td>\n",
              "    </tr>\n",
              "    <tr>\n",
              "      <th>4</th>\n",
              "      <td>14</td>\n",
              "      <td>1</td>\n",
              "      <td>2014-05-14T01:25:59.677</td>\n",
              "      <td>26</td>\n",
              "      <td>1901.0</td>\n",
              "      <td>&lt;p&gt;I am sure data science as will be discussed...</td>\n",
              "      <td>66.0</td>\n",
              "      <td>2020-08-16T13:01:33.543</td>\n",
              "      <td>Is Data Science the Same as Data Mining?</td>\n",
              "      <td>&lt;data-mining&gt;&lt;definitions&gt;</td>\n",
              "      <td>...</td>\n",
              "      <td>None</td>\n",
              "      <td>CC BY-SA 3.0</td>\n",
              "      <td>29.0</td>\n",
              "      <td>322.0</td>\n",
              "      <td>2014-06-17T16:17:20.473</td>\n",
              "      <td>NaN</td>\n",
              "      <td>None</td>\n",
              "      <td>None</td>\n",
              "      <td>None</td>\n",
              "      <td>NaN</td>\n",
              "    </tr>\n",
              "    <tr>\n",
              "      <th>...</th>\n",
              "      <td>...</td>\n",
              "      <td>...</td>\n",
              "      <td>...</td>\n",
              "      <td>...</td>\n",
              "      <td>...</td>\n",
              "      <td>...</td>\n",
              "      <td>...</td>\n",
              "      <td>...</td>\n",
              "      <td>...</td>\n",
              "      <td>...</td>\n",
              "      <td>...</td>\n",
              "      <td>...</td>\n",
              "      <td>...</td>\n",
              "      <td>...</td>\n",
              "      <td>...</td>\n",
              "      <td>...</td>\n",
              "      <td>...</td>\n",
              "      <td>...</td>\n",
              "      <td>...</td>\n",
              "      <td>...</td>\n",
              "      <td>...</td>\n",
              "    </tr>\n",
              "    <tr>\n",
              "      <th>75722</th>\n",
              "      <td>119962</td>\n",
              "      <td>1</td>\n",
              "      <td>2023-03-04T20:06:06.820</td>\n",
              "      <td>0</td>\n",
              "      <td>8.0</td>\n",
              "      <td>&lt;p&gt;I am implementing a neural network of arbit...</td>\n",
              "      <td>147597.0</td>\n",
              "      <td>2023-03-04T20:22:12.523</td>\n",
              "      <td>Back Propagation on arbitrary depth network wi...</td>\n",
              "      <td>&lt;neural-network&gt;&lt;backpropagation&gt;</td>\n",
              "      <td>...</td>\n",
              "      <td>None</td>\n",
              "      <td>CC BY-SA 4.0</td>\n",
              "      <td>NaN</td>\n",
              "      <td>147597.0</td>\n",
              "      <td>2023-03-04T20:22:12.523</td>\n",
              "      <td>NaN</td>\n",
              "      <td>None</td>\n",
              "      <td>None</td>\n",
              "      <td>None</td>\n",
              "      <td>NaN</td>\n",
              "    </tr>\n",
              "    <tr>\n",
              "      <th>75723</th>\n",
              "      <td>119963</td>\n",
              "      <td>1</td>\n",
              "      <td>2023-03-04T20:12:19.677</td>\n",
              "      <td>0</td>\n",
              "      <td>10.0</td>\n",
              "      <td>&lt;p&gt;I am using KNN for a regression task&lt;/p&gt;\\n&lt;...</td>\n",
              "      <td>147598.0</td>\n",
              "      <td>2023-03-04T20:12:19.677</td>\n",
              "      <td>Evaluation parameter in knn</td>\n",
              "      <td>&lt;regression&gt;&lt;k-nn&gt;</td>\n",
              "      <td>...</td>\n",
              "      <td>None</td>\n",
              "      <td>CC BY-SA 4.0</td>\n",
              "      <td>NaN</td>\n",
              "      <td>NaN</td>\n",
              "      <td>None</td>\n",
              "      <td>NaN</td>\n",
              "      <td>None</td>\n",
              "      <td>None</td>\n",
              "      <td>None</td>\n",
              "      <td>NaN</td>\n",
              "    </tr>\n",
              "    <tr>\n",
              "      <th>75724</th>\n",
              "      <td>119964</td>\n",
              "      <td>1</td>\n",
              "      <td>2023-03-05T00:14:12.597</td>\n",
              "      <td>0</td>\n",
              "      <td>7.0</td>\n",
              "      <td>&lt;p&gt;I have developed a small encoding algorithm...</td>\n",
              "      <td>44581.0</td>\n",
              "      <td>2023-03-05T00:14:12.597</td>\n",
              "      <td>Can I use zero-padded input and output layers ...</td>\n",
              "      <td>&lt;deep-learning&gt;&lt;convolutional-neural-network&gt;</td>\n",
              "      <td>...</td>\n",
              "      <td>None</td>\n",
              "      <td>CC BY-SA 4.0</td>\n",
              "      <td>NaN</td>\n",
              "      <td>NaN</td>\n",
              "      <td>None</td>\n",
              "      <td>NaN</td>\n",
              "      <td>None</td>\n",
              "      <td>None</td>\n",
              "      <td>None</td>\n",
              "      <td>NaN</td>\n",
              "    </tr>\n",
              "    <tr>\n",
              "      <th>75725</th>\n",
              "      <td>119965</td>\n",
              "      <td>1</td>\n",
              "      <td>2023-03-05T00:43:12.213</td>\n",
              "      <td>0</td>\n",
              "      <td>5.0</td>\n",
              "      <td>&lt;p&gt;To my understanding, optimizing a model wit...</td>\n",
              "      <td>84437.0</td>\n",
              "      <td>2023-03-05T00:43:12.213</td>\n",
              "      <td>Why does cross validation and hyperparameter t...</td>\n",
              "      <td>&lt;cross-validation&gt;&lt;hyperparameter-tuning&gt;</td>\n",
              "      <td>...</td>\n",
              "      <td>None</td>\n",
              "      <td>CC BY-SA 4.0</td>\n",
              "      <td>NaN</td>\n",
              "      <td>NaN</td>\n",
              "      <td>None</td>\n",
              "      <td>NaN</td>\n",
              "      <td>None</td>\n",
              "      <td>None</td>\n",
              "      <td>None</td>\n",
              "      <td>NaN</td>\n",
              "    </tr>\n",
              "    <tr>\n",
              "      <th>75726</th>\n",
              "      <td>119966</td>\n",
              "      <td>1</td>\n",
              "      <td>2023-03-05T03:10:27.593</td>\n",
              "      <td>0</td>\n",
              "      <td>2.0</td>\n",
              "      <td>&lt;p&gt;I'm working with a dataset of cars, contain...</td>\n",
              "      <td>147605.0</td>\n",
              "      <td>2023-03-05T03:10:27.593</td>\n",
              "      <td>High metrics value (MAE, MSE, RMSE)</td>\n",
              "      <td>&lt;python&gt;&lt;pandas&gt;&lt;machine-learning-model&gt;&lt;linea...</td>\n",
              "      <td>...</td>\n",
              "      <td>None</td>\n",
              "      <td>CC BY-SA 4.0</td>\n",
              "      <td>NaN</td>\n",
              "      <td>NaN</td>\n",
              "      <td>None</td>\n",
              "      <td>NaN</td>\n",
              "      <td>None</td>\n",
              "      <td>None</td>\n",
              "      <td>None</td>\n",
              "      <td>NaN</td>\n",
              "    </tr>\n",
              "  </tbody>\n",
              "</table>\n",
              "<p>75727 rows × 22 columns</p>\n",
              "</div>"
            ],
            "text/plain": [
              "           Id  PostTypeId             CreationDate  Score  ViewCount   \n",
              "0           5           1  2014-05-13T23:58:30.457      9      898.0  \\\n",
              "1           7           1  2014-05-14T00:11:06.457      4      478.0   \n",
              "2           9           2  2014-05-14T00:36:31.077      5        NaN   \n",
              "3          10           2  2014-05-14T00:53:43.273     13        NaN   \n",
              "4          14           1  2014-05-14T01:25:59.677     26     1901.0   \n",
              "...       ...         ...                      ...    ...        ...   \n",
              "75722  119962           1  2023-03-04T20:06:06.820      0        8.0   \n",
              "75723  119963           1  2023-03-04T20:12:19.677      0       10.0   \n",
              "75724  119964           1  2023-03-05T00:14:12.597      0        7.0   \n",
              "75725  119965           1  2023-03-05T00:43:12.213      0        5.0   \n",
              "75726  119966           1  2023-03-05T03:10:27.593      0        2.0   \n",
              "\n",
              "                                                    Body  OwnerUserId   \n",
              "0      <p>I've always been interested in machine lear...          5.0  \\\n",
              "1      <p>As a researcher and instructor, I'm looking...         36.0   \n",
              "2      <p>Not sure if this fits the scope of this SE,...         51.0   \n",
              "3      <p>One book that's freely available is \"The El...         22.0   \n",
              "4      <p>I am sure data science as will be discussed...         66.0   \n",
              "...                                                  ...          ...   \n",
              "75722  <p>I am implementing a neural network of arbit...     147597.0   \n",
              "75723  <p>I am using KNN for a regression task</p>\\n<...     147598.0   \n",
              "75724  <p>I have developed a small encoding algorithm...      44581.0   \n",
              "75725  <p>To my understanding, optimizing a model wit...      84437.0   \n",
              "75726  <p>I'm working with a dataset of cars, contain...     147605.0   \n",
              "\n",
              "              LastActivityDate   \n",
              "0      2014-05-14T00:36:31.077  \\\n",
              "1      2014-05-16T13:45:00.237   \n",
              "2      2014-05-14T00:36:31.077   \n",
              "3      2014-05-14T00:53:43.273   \n",
              "4      2020-08-16T13:01:33.543   \n",
              "...                        ...   \n",
              "75722  2023-03-04T20:22:12.523   \n",
              "75723  2023-03-04T20:12:19.677   \n",
              "75724  2023-03-05T00:14:12.597   \n",
              "75725  2023-03-05T00:43:12.213   \n",
              "75726  2023-03-05T03:10:27.593   \n",
              "\n",
              "                                                   Title   \n",
              "0      How can I do simple machine learning without h...  \\\n",
              "1      What open-source books (or other materials) pr...   \n",
              "2                                                   None   \n",
              "3                                                   None   \n",
              "4               Is Data Science the Same as Data Mining?   \n",
              "...                                                  ...   \n",
              "75722  Back Propagation on arbitrary depth network wi...   \n",
              "75723                        Evaluation parameter in knn   \n",
              "75724  Can I use zero-padded input and output layers ...   \n",
              "75725  Why does cross validation and hyperparameter t...   \n",
              "75726                High metrics value (MAE, MSE, RMSE)   \n",
              "\n",
              "                                                    Tags  ...   \n",
              "0                                     <machine-learning>  ...  \\\n",
              "1                               <education><open-source>  ...   \n",
              "2                                                   None  ...   \n",
              "3                                                   None  ...   \n",
              "4                             <data-mining><definitions>  ...   \n",
              "...                                                  ...  ...   \n",
              "75722                  <neural-network><backpropagation>  ...   \n",
              "75723                                 <regression><k-nn>  ...   \n",
              "75724      <deep-learning><convolutional-neural-network>  ...   \n",
              "75725          <cross-validation><hyperparameter-tuning>  ...   \n",
              "75726  <python><pandas><machine-learning-model><linea...  ...   \n",
              "\n",
              "                    ClosedDate  ContentLicense AcceptedAnswerId   \n",
              "0      2014-05-14T14:40:25.950    CC BY-SA 3.0              NaN  \\\n",
              "1      2014-05-14T08:40:54.950    CC BY-SA 3.0             10.0   \n",
              "2                         None    CC BY-SA 3.0              NaN   \n",
              "3                         None    CC BY-SA 3.0              NaN   \n",
              "4                         None    CC BY-SA 3.0             29.0   \n",
              "...                        ...             ...              ...   \n",
              "75722                     None    CC BY-SA 4.0              NaN   \n",
              "75723                     None    CC BY-SA 4.0              NaN   \n",
              "75724                     None    CC BY-SA 4.0              NaN   \n",
              "75725                     None    CC BY-SA 4.0              NaN   \n",
              "75726                     None    CC BY-SA 4.0              NaN   \n",
              "\n",
              "      LastEditorUserId             LastEditDate  ParentId OwnerDisplayName   \n",
              "0                  NaN                     None       NaN             None  \\\n",
              "1                 97.0  2014-05-16T13:45:00.237       NaN             None   \n",
              "2                  NaN                     None       5.0             None   \n",
              "3                  NaN                     None       7.0             None   \n",
              "4                322.0  2014-06-17T16:17:20.473       NaN             None   \n",
              "...                ...                      ...       ...              ...   \n",
              "75722         147597.0  2023-03-04T20:22:12.523       NaN             None   \n",
              "75723              NaN                     None       NaN             None   \n",
              "75724              NaN                     None       NaN             None   \n",
              "75725              NaN                     None       NaN             None   \n",
              "75726              NaN                     None       NaN             None   \n",
              "\n",
              "       CommunityOwnedDate LastEditorDisplayName FavoriteCount  \n",
              "0                    None                  None           NaN  \n",
              "1                    None                  None           NaN  \n",
              "2                    None                  None           NaN  \n",
              "3                    None                  None           NaN  \n",
              "4                    None                  None           NaN  \n",
              "...                   ...                   ...           ...  \n",
              "75722                None                  None           NaN  \n",
              "75723                None                  None           NaN  \n",
              "75724                None                  None           NaN  \n",
              "75725                None                  None           NaN  \n",
              "75726                None                  None           NaN  \n",
              "\n",
              "[75727 rows x 22 columns]"
            ]
          },
          "execution_count": 35,
          "metadata": {},
          "output_type": "execute_result"
        }
      ],
      "source": [
        "# Open the Posts.xml file\n",
        "import pandas as pd\n",
        "posts = pd.read_xml(os.path.join('/home/lucien/datascience.stackexchange.com/Posts.xml'), parser=\"etree\", encoding=\"utf8\")\n",
        "posts"
      ]
    },
    {
      "cell_type": "code",
      "execution_count": null,
      "metadata": {
        "id": "ZeGfUGDnrSpE"
      },
      "outputs": [],
      "source": [
        "# What is the size of this file ?\n",
        "\n",
        "La taille est 123,5 Mo"
      ]
    },
    {
      "cell_type": "code",
      "execution_count": null,
      "metadata": {
        "id": "hvPpey1brruH"
      },
      "outputs": [],
      "source": [
        "# What is the schema of the posts table ?\n",
        "<row Id=\"39288\" PostTypeId=\"2\" ParentId=\"28232\" CreationDate=\"2018-10-06T23:22:20.493\" Score=\"-2\" Body=\"&lt;p&gt;A common complaint about Python’s syntax is that it’s impossible to generate Python code on the fly, from a program.&#xA;If you want, use Rcmdr (R pkg) to do your analysis and machine learning. You can export the output AND THE CODE. &#xA;I use since long time the two languages. Python is powerful but it has this black point. &lt;/p&gt;&#xA;\" OwnerUserId=\"60297\" LastEditorUserId=\"29575\" LastEditDate=\"2018-10-06T23:43:15.247\" LastActivityDate=\"2018-10-06T23:43:15.247\" CommentCount=\"1\" ContentLicense=\"CC BY-SA 4.0\" />\n",
        "\n",
        "#Parfois il peut aussi y avoir de sbalises tag"
      ]
    },
    {
      "cell_type": "code",
      "execution_count": null,
      "metadata": {
        "id": "MpItDd1Truqv"
      },
      "outputs": [
        {
          "name": "stdout",
          "output_type": "stream",
          "text": [
            "3.6972332015810276\n"
          ]
        }
      ],
      "source": [
        "# Give the mean number of new posts by user \n",
        "\n",
        "#calculons le nombre de posts par utilisateur, repérés par OwnerUserId avec newpost signifie PostTypeId=1\n",
        "\n",
        "#comptons le nombre de posts par utilisateur qui ont PostTypeId=1\n",
        "\n",
        "users = {}\n",
        "for user in posts['OwnerUserId']:\n",
        "  #on regarde la colonne PostTypeId sur la même ligne que OwnerUserId\n",
        "  try:\n",
        "    if posts['PostTypeId'][user] == 1:\n",
        "        if user in users:\n",
        "            users[user] += 1\n",
        "        else:\n",
        "            users[user] = 1\n",
        "  except:\n",
        "     pass\n",
        "\n",
        "\n",
        "#calculons la moyenne\n",
        "\n",
        "sum = 0\n",
        "\n",
        "for user in users:\n",
        "  sum += users[user]\n",
        "\n",
        "print(sum/len(users))\n"
      ]
    },
    {
      "cell_type": "code",
      "execution_count": null,
      "metadata": {
        "id": "YQ2rUO4DrxMU"
      },
      "outputs": [],
      "source": [
        "# Run some other queries to get a better understanding of the \"Posts\" table"
      ]
    },
    {
      "attachments": {},
      "cell_type": "markdown",
      "metadata": {
        "id": "3J1FfGVNr1ja"
      },
      "source": [
        "## Data Visualization \n",
        "\n",
        "Exploring data only through queries has its limits. \n",
        "\n",
        "An important step in understanding the data is in the visualization. It is important to think about what information I want to put forward and how.\n",
        "\n",
        "You have the matplotlib and seaborn libraries available:\n",
        "- https://matplotlib.org/stable/index.html\n",
        "- https://seaborn.pydata.org/\n",
        "\n",
        "\n",
        "You can find some cheatsheets at:\n",
        " - for matplotlib: https://matplotlib.org/cheatsheets/\n",
        " - for seaborn: https://res.cloudinary.com/dyd911kmh/image/upload/v1676302629/Marketing/Blog/Seaborn_Cheat_Sheet.pdf\n"
      ]
    },
    {
      "attachments": {},
      "cell_type": "markdown",
      "metadata": {
        "id": "reWXnXkdr_-n"
      },
      "source": [
        "#### Example of matplotlib use"
      ]
    },
    {
      "cell_type": "code",
      "execution_count": 15,
      "metadata": {
        "id": "4a3Urfzsr49v"
      },
      "outputs": [
        {
          "data": {
            "image/png": "[encoded data removed]",
            "text/plain": [
              "<Figure size 800x500 with 1 Axes>"
            ]
          },
          "metadata": {},
          "output_type": "display_data"
        }
      ],
      "source": [
        "import pandas as pd\n",
        "import matplotlib.pyplot as plt\n",
        "import seaborn as sns\n",
        "\n",
        "tags = pd.read_xml(os.path.join('/home/lucien/datascience.stackexchange.com/Tags.xml'), parser=\"etree\", encoding=\"utf8\")\n",
        "\n",
        "tags_5 = tags.head(5)\n",
        "\n",
        "fig, ax = plt.subplots(figsize=(8, 5), layout='constrained')\n",
        "\n",
        "plt.bar(x=tags_5[\"TagName\"], height=tags_5[\"Count\"], width=0.4)\n",
        "\n",
        "# Add some text for labels, title and custom x-axis tick labels, etc.\n",
        "ax.set_ylabel('Posts count')\n",
        "ax.set_title('Distribution of Posts count by Tag')\n",
        "ax.set_ylim(0, 12_000)\n",
        "\n",
        "plt.show()"
      ]
    },
    {
      "attachments": {},
      "cell_type": "markdown",
      "metadata": {
        "id": "rFBMPI8qsF9Q"
      },
      "source": [
        "#### Example of seaborn use"
      ]
    },
    {
      "cell_type": "code",
      "execution_count": 16,
      "metadata": {
        "id": "dyx3MZ_asDOz"
      },
      "outputs": [
        {
          "data": {
            "image/png": "[encoded data removed]",
            "text/plain": [
              "<Figure size 800x500 with 1 Axes>"
            ]
          },
          "metadata": {},
          "output_type": "display_data"
        }
      ],
      "source": [
        "tags_5 = tags.head(5)\n",
        "\n",
        "fig, ax = plt.subplots(figsize=(8, 5), layout='constrained')\n",
        "\n",
        "sns.barplot(x=tags_5[\"TagName\"], y=tags_5[\"Count\"], width=0.4)\n",
        "\n",
        "# Add some text for labels, title and custom x-axis tick labels, etc.\n",
        "ax.set_ylabel('Posts count')\n",
        "ax.set_title('Distribution of Posts count by Tag')\n",
        "ax.set_ylim(0, 12_000)\n",
        "\n",
        "plt.show()"
      ]
    },
    {
      "attachments": {},
      "cell_type": "markdown",
      "metadata": {
        "id": "1vHw-rh9sdFL"
      },
      "source": [
        "These were 2 examples of distribution visualization via histograms.\n",
        "\n",
        "On Seaborn, several types of fairly intuitive graphs are available. They are classified by type of input data:\n",
        "- Visualize 2 continuous variables: relplot\n",
        "- Visualize 1 continuous variable in relation to a categorical variable: displot\n",
        "- Visualize 2 categorical variables : catplot\n",
        "\n",
        "![image.png](https://seaborn.pydata.org/_images/function_overview_8_0.png)\n",
        "\n",
        "\n",
        "More examples can be found here : https://seaborn.pydata.org/tutorial/function_overview.html\n"
      ]
    },
    {
      "cell_type": "code",
      "execution_count": 18,
      "metadata": {
        "id": "wZEe7iqxsihH"
      },
      "outputs": [
        {
          "data": {
            "text/plain": [
              "Text(0.5, 1.0, 'Distribution of the number of users by new posts number')"
            ]
          },
          "execution_count": 18,
          "metadata": {},
          "output_type": "execute_result"
        },
        {
          "data": {
            "image/png": "[encoded data removed]",
            "text/plain": [
              "<Figure size 640x480 with 1 Axes>"
            ]
          },
          "metadata": {},
          "output_type": "display_data"
        }
      ],
      "source": [
        "# Viz 1 : Plot the distribution of number of posts created by users\n",
        "\n",
        "# Directly use histplot takes too long because of the number of users.\n",
        "# Better to aggregate and then use barplot\n",
        "\n",
        "# Doesn't take into account users that have never created posts\n",
        "posts = pd.read_xml(os.path.join('/home/lucien/datascience.stackexchange.com/Posts.xml'), parser=\"etree\", encoding=\"utf8\")\n",
        "\n",
        "posts_count = posts.groupby(\"OwnerUserId\", as_index=False)[\"Id\"].count()\n",
        "posts_count = posts_count.rename(columns={\"Id\": \"postNumber\"})\n",
        "posts_count_number = posts_count.groupby(\"postNumber\", as_index=False).count()\n",
        "\n",
        "sns.barplot(x=\"postNumber\", y=\"OwnerUserId\", data=posts_count_number)\n",
        "plt.xlim((0, 10))\n",
        "plt.ylabel(\"Number of New Posts\")\n",
        "plt.title(\"Distribution of the number of users by new posts number\")"
      ]
    },
    {
      "cell_type": "code",
      "execution_count": 19,
      "metadata": {
        "id": "omajwmj1s3Ql"
      },
      "outputs": [
        {
          "data": {
            "text/plain": [
              "Text(0.5, 1.0, 'Distribution of the new posts number by months')"
            ]
          },
          "execution_count": 19,
          "metadata": {},
          "output_type": "execute_result"
        },
        {
          "data": {
            "image/png": "[encoded data removed]",
            "text/plain": [
              "<Figure size 640x480 with 1 Axes>"
            ]
          },
          "metadata": {},
          "output_type": "display_data"
        }
      ],
      "source": [
        "# Viz 2 : Plot the distribution of number of posts by months\n",
        "posts[\"month_creation_date\"] = pd.to_datetime(posts.CreationDate).dt.month\n",
        "\n",
        "posts_by_month = posts.groupby(\"month_creation_date\", as_index=False)[\"OwnerUserId\"].count()\n",
        "\n",
        "sns.barplot(x=\"month_creation_date\", y=\"OwnerUserId\", data=posts_by_month)\n",
        "plt.ylabel(\"Number of New Posts\")\n",
        "plt.title(\"Distribution of the new posts number by months\")"
      ]
    },
    {
      "cell_type": "code",
      "execution_count": 20,
      "metadata": {
        "id": "Fx2iVYoTtLBJ"
      },
      "outputs": [
        {
          "name": "stderr",
          "output_type": "stream",
          "text": [
            "/tmp/ipykernel_5190/1895595320.py:6: SettingWithCopyWarning: \n",
            "A value is trying to be set on a copy of a slice from a DataFrame.\n",
            "Try using .loc[row_indexer,col_indexer] = value instead\n",
            "\n",
            "See the caveats in the documentation: https://pandas.pydata.org/pandas-docs/stable/user_guide/indexing.html#returning-a-view-versus-a-copy\n",
            "  posts_sup2020[\"nbCaracters\"] = posts_sup2020.Body.str.len()\n"
          ]
        },
        {
          "data": {
            "text/plain": [
              "Text(0.5, 1.0, 'Distribution of the number of characters by posts and by users')"
            ]
          },
          "execution_count": 20,
          "metadata": {},
          "output_type": "execute_result"
        },
        {
          "data": {
            "image/png": "[encoded data removed]",
            "text/plain": [
              "<Figure size 640x480 with 1 Axes>"
            ]
          },
          "metadata": {},
          "output_type": "display_data"
        }
      ],
      "source": [
        "# Viz 3 : Plot the distribution of number of characters by posts and by year starting from 2020\n",
        "posts[\"CreationDateYear\"] = pd.to_datetime(posts.CreationDate).dt.year\n",
        "\n",
        "posts_sup2020 = posts[posts.CreationDateYear > 2020]\n",
        "\n",
        "posts_sup2020[\"nbCaracters\"] = posts_sup2020.Body.str.len()\n",
        "\n",
        "sns.histplot(x=\"nbCaracters\", hue=\"CreationDateYear\", data=posts_sup2020)\n",
        "plt.xlim((0, 5000))\n",
        "plt.ylabel(\"Number of Characters\")\n",
        "plt.title(\"Distribution of the number of characters by posts and by users\")"
      ]
    },
    {
      "cell_type": "code",
      "execution_count": null,
      "metadata": {
        "id": "bz2HP6O9tT-3"
      },
      "outputs": [],
      "source": [
        "# Add other visualization figures that can help you to decide the search engine architecture"
      ]
    },
    {
      "attachments": {},
      "cell_type": "markdown",
      "metadata": {
        "id": "mhDTfggBtWYM"
      },
      "source": [
        "## Exploring Other Files\n",
        "\n",
        "The purpose of this part is to understand the other files using the same process and data collection site: https://archive.org/details/stackexchange\n",
        "\n",
        "You will describe the purpose and content of each file to show your understanding of the subject. You will also make a relational diagram of the different tables directly in the report."
      ]
    },
    {
      "cell_type": "code",
      "execution_count": null,
      "metadata": {
        "id": "Q4gGnRTKtcBp"
      },
      "outputs": [],
      "source": [
        "# Open, explore and visualize other XML files to suggest features for your search engines"
      ]
    },
    {
      "attachments": {},
      "cell_type": "markdown",
      "metadata": {
        "id": "gU11G80rtfld"
      },
      "source": [
        "## Suggest ideas for the search engine\n",
        "\n",
        "Using your work and knowledge of this database, propose a structure for your search engine in the report. You do not need to code it entirely yet, simply write down some ideas you may already have on how you could build a great search engine, which data to use and how to use it.\n",
        "\n",
        "Reminder: The aim is to provide a search engine able to find information from any of the files with textual data in it (posts, comments, ...) on the datascience topic. Some files might be better than others when it comes to searching for information, some metadata could be used aswell... "
      ]
    },
    {
      "attachments": {},
      "cell_type": "markdown",
      "metadata": {},
      "source": [
        "IDEAS:\n",
        "-recherche par mots clés où les ots clés sont des tags associés aux articles. On accorde plus de poids au correspondance de mots entre la recherche et les tags s'il y a bien correspondance\n",
        "-pour les autres correspondance (mot de la publication et mot de la recherche) on utilise un poids normal\n",
        "-on propose en priorité les articles les plus récentes s'ils y a environ la même correspondance\n",
        "-plus de poids selon nombre de like, vues, commentaires\n",
        "\n",
        "INDEX\n",
        "\n",
        "-->index inversé: en clé les mots clés et en valeur les articles qui contiennent ces mots là (premiers dic)\n",
        "\n",
        "-->index à terme de fréquence: même principe que l'index inversé mais en pllus d'associé l'article à un mot il associe aussi la fréquence d'apparition des mots\n",
        "\n",
        "Pour la segmentation de texte: on séparer sur les espaces, on garde seulement le radical etc...\n",
        "Gros algo pour bien vectoriser: BPE, SentencePiece, WordPiece (tous dans le module transformer)\n",
        "\n",
        "AVANT TOKÉNISER LA QUERY DE LA MÊME MANIÈRE QUE L'ON A UTILISER POUR TOKÉNISER LE TEXTE\n",
        "\n",
        "Outil à utiliser: \n",
        "import transformer\n",
        "tokenizer = Autotenizer.from_pretrained(\"camembert-base\") #pour langue française\n",
        "Puis tokenizer.tokenize(\"rentrer string de caractères)\n",
        "\n",
        "RECHERCHE\n",
        "\n",
        "--> recherche par count: on compte le nombre de mot en commun entre la requête et les documents et prendre ceux avec le plus de doc (le plus basique)\n",
        "\n",
        "--> recherche booléenne\n",
        "\n",
        "--> recherche probabiliste"
      ]
    }
  ],
  "metadata": {
    "colab": {
      "provenance": []
    },
    "kernelspec": {
      "display_name": "Python 3",
      "name": "python3"
    },
    "language_info": {
      "codemirror_mode": {
        "name": "ipython",
        "version": 3
      },
      "file_extension": ".py",
      "mimetype": "text/x-python",
      "name": "python",
      "nbconvert_exporter": "python",
      "pygments_lexer": "ipython3",
      "version": "3.9.16"
    }
  },
  "nbformat": 4,
  "nbformat_minor": 0
}
